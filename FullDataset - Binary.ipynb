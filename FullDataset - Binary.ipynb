{
 "cells": [
  {
   "cell_type": "code",
   "execution_count": null,
   "id": "34c18016-9c5a-4bfa-afba-e17c737fe51d",
   "metadata": {},
   "outputs": [],
   "source": [
    "import torch\n",
    "import torch.nn as nn\n",
    "import torchvision\n",
    "from torchvision import datasets, transforms, models\n",
    "from torch.utils.data import DataLoader, random_split, ConcatDataset, Subset\n",
    "import random\n",
    "import os\n",
    "from pathlib import Path\n",
    "\n",
    "transform = transforms.Compose([\n",
    "    transforms.Resize((224,224)),\n",
    "    transforms.ToTensor(),\n",
    "    transforms.Normalize([0.5]*3, [0.5]*3)\n",
    "])\n",
    "\n",
    "aug_dataset = datasets.ImageFolder(root=\"/kaggle/input/augmented-alzheimer-mri-dataset/AugmentedAlzheimerDataset\", transform=transform)\n",
    "org_dataset = datasets.ImageFolder(root=\"/kaggle/input/augmented-alzheimer-mri-dataset/OriginalDataset\", transform=transform)"
   ]
  },
  {
   "cell_type": "code",
   "execution_count": null,
   "id": "b809c01d-f53b-4080-8e8d-3b00bdd991fc",
   "metadata": {},
   "outputs": [],
   "source": [
    "allowed_classes = ['NonDemented', 'VeryMildDemented']\n",
    "\n",
    "def filtered_classes(dataset):\n",
    "    idx_dict = dataset.class_to_idx\n",
    "    allowed_indices = [idx_dict[c] for c in allowed_classes] \n",
    "    indices = [i for i, (_, label) in enumerate(dataset) if label in allowed_indices]\n",
    "    return Subset(dataset, indices), allowed_indices \n",
    "\n",
    "aug_dataset, _ = filtered_classes(aug_dataset)\n",
    "org_dataset, _ = filtered_classes(org_dataset)\n",
    "\n",
    "full_dataset = ConcatDataset([aug_dataset, org_dataset])"
   ]
  },
  {
   "cell_type": "code",
   "execution_count": null,
   "id": "84ac0536-774c-4d2e-a93e-2cbc2dd27dfc",
   "metadata": {},
   "outputs": [],
   "source": [
    "train_size = int(0.8*len(full_dataset))\n",
    "val_size = len(full_dataset) - train_size \n",
    "\n",
    "train_ds, val_ds = random_split(full_dataset, [train_size, val_size])\n",
    "\n",
    "train_loader = DataLoader(train_ds, batch_size=32, shuffle=True)\n",
    "val_loader = DataLoader(val_ds, batch_size=32)"
   ]
  },
  {
   "cell_type": "code",
   "execution_count": null,
   "id": "09f6f751-3a02-43b2-a2b6-1d132cf15e61",
   "metadata": {},
   "outputs": [],
   "source": [
    "device = torch.device(\"cuda\")\n",
    "\n",
    "model = models.resnet34(pretrained=True)\n",
    "model.fc = nn.Linear(model.fc.in_features, 4)\n",
    "model = model.to(device)\n",
    "\n",
    "criterion = nn.CrossEntropyLoss()\n",
    "optimizer = torch.optim.Adam(model.parameters(), lr=0.0001)"
   ]
  },
  {
   "cell_type": "code",
   "execution_count": null,
   "id": "0efba3be-025b-4d33-bedf-eb1fb2424a73",
   "metadata": {},
   "outputs": [],
   "source": [
    "epochs = 5  \n",
    "\n",
    "for epoch in range(epochs):\n",
    "    model.train()\n",
    "    total, correct = 0, 0\n",
    "    epoch_loss = 0\n",
    "\n",
    "    for imgs, labels in train_loader:\n",
    "        imgs, labels = imgs.to(device), labels.to(device)\n",
    "        optimizer.zero_grad()\n",
    "        output = model(imgs)\n",
    "        loss = criterion(output, labels)\n",
    "        loss.backward()\n",
    "        optimizer.step()\n",
    "\n",
    "        epoch_loss += loss.item()\n",
    "        total += labels.size(0)\n",
    "        correct += (output.argmax(1) == labels).sum().item()\n",
    "\n",
    "    acc = correct / total\n",
    "    print(f\"Epoch {epoch+1}, Loss: {epoch_loss:.4f}, Train Accuracy: {acc:.4f}\")"
   ]
  },
  {
   "cell_type": "code",
   "execution_count": null,
   "id": "5ff78c66-e964-4224-a10d-e74c91740f90",
   "metadata": {},
   "outputs": [],
   "source": [
    "model.eval()\n",
    "correct = 0\n",
    "with torch.no_grad():\n",
    "    for imgs, labels in val_loader:\n",
    "        imgs, labels = imgs.to(device), labels.to(device)\n",
    "        outputs = model(imgs)\n",
    "        correct += (outputs.argmax(1) == labels).sum().item()\n",
    "\n",
    "val_acc = correct / len(val_ds)\n",
    "print(f\"Validation Accuracy: {val_acc:.4f}\")"
   ]
  }
 ],
 "metadata": {
  "kernelspec": {
   "display_name": "Python (fastai)",
   "language": "python",
   "name": "fastai_env"
  },
  "language_info": {
   "codemirror_mode": {
    "name": "ipython",
    "version": 3
   },
   "file_extension": ".py",
   "mimetype": "text/x-python",
   "name": "python",
   "nbconvert_exporter": "python",
   "pygments_lexer": "ipython3",
   "version": "3.12.11"
  }
 },
 "nbformat": 4,
 "nbformat_minor": 5
}
