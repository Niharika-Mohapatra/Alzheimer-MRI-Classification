{
 "cells": [
  {
   "cell_type": "code",
   "execution_count": null,
   "id": "5a60c821-0d32-4cd0-9be3-c60ef7ec410f",
   "metadata": {},
   "outputs": [],
   "source": [
    "import torch\n",
    "import torch.nn as nn\n",
    "import torchvision\n",
    "from torchvision import datasets, transforms, models\n",
    "from torch.utils.data import DataLoader, random_split, ConcatDataset, Subset\n",
    "import random\n",
    "import os\n",
    "from pathlib import Path\n",
    "\n",
    "transform = transforms.Compose([\n",
    "    transforms.Resize((224,224)),\n",
    "    transforms.ToTensor(),\n",
    "    transforms.Normalize([0.5]*3, [0.5]*3)\n",
    "])\n",
    "\n",
    "aug_dataset = datasets.ImageFolder(root=\"/kaggle/input/augmented-alzheimer-mri-dataset/AugmentedAlzheimerDataset\", transform=transform)\n",
    "org_dataset = datasets.ImageFolder(root=\"/kaggle/input/augmented-alzheimer-mri-dataset/OriginalDataset\", transform=transform) "
   ]
  },
  {
   "cell_type": "code",
   "execution_count": null,
   "id": "91047987-9ba9-4ecd-aab8-d7dc6d93d1cb",
   "metadata": {},
   "outputs": [],
   "source": [
    "allowed_classes = ['NonDemented', 'VeryMildDemented']\n",
    "\n",
    "def filtered_classes(dataset):\n",
    "    idx_dict = dataset.class_to_idx\n",
    "    allowed_indices = [idx_dict[c] for c in allowed_classes] \n",
    "    indices = [i for i, (_, label) in enumerate(dataset) if label in allowed_indices]\n",
    "    return Subset(dataset, indices), allowed_indices \n",
    "\n",
    "aug_dataset, _ = filtered_classes(aug_dataset)\n",
    "org_dataset, _ = filtered_classes(org_dataset)"
   ]
  },
  {
   "cell_type": "code",
   "execution_count": null,
   "id": "482b9054-519b-41da-ac98-81b5f36b1b57",
   "metadata": {},
   "outputs": [],
   "source": [
    "train_ds = aug_dataset\n",
    "val_ds = org_dataset\n",
    "\n",
    "train_loader = DataLoader(train_ds, batch_size=32, shuffle=True)\n",
    "val_loader = DataLoader(val_ds, batch_size=32)"
   ]
  },
  {
   "cell_type": "code",
   "execution_count": null,
   "id": "5c3aefe4-2ffb-4527-92cc-f592ffae73e8",
   "metadata": {},
   "outputs": [],
   "source": [
    "device = torch.device(\"cuda\")\n",
    "\n",
    "model = models.resnet34(pretrained=True)\n",
    "model.fc = nn.Linear(model.fc.in_features, 2)\n",
    "model = model.to(device)\n",
    "\n",
    "criterion = nn.CrossEntropyLoss()\n",
    "optimizer = torch.optim.Adam(model.parameters(), lr=0.0001)"
   ]
  },
  {
   "cell_type": "code",
   "execution_count": null,
   "id": "9633ff41-d053-4d3e-b103-19f04b8e9b41",
   "metadata": {},
   "outputs": [],
   "source": [
    "epochs = 5  \n",
    "\n",
    "for epoch in range(epochs):\n",
    "    model.train()\n",
    "    total, correct = 0, 0\n",
    "    epoch_loss = 0\n",
    "\n",
    "    for imgs, labels in train_loader:\n",
    "        imgs, labels = imgs.to(device), labels.to(device)\n",
    "        optimizer.zero_grad()\n",
    "        output = model(imgs)\n",
    "        loss = criterion(output, labels)\n",
    "        loss.backward()\n",
    "        optimizer.step()\n",
    "\n",
    "        epoch_loss += loss.item()\n",
    "        total += labels.size(0)\n",
    "        correct += (output.argmax(1) == labels).sum().item()\n",
    "\n",
    "    acc = correct / total\n",
    "    print(f\"Epoch {epoch+1}, Loss: {epoch_loss:.4f}, Train Accuracy: {acc:.4f}\")"
   ]
  },
  {
   "cell_type": "code",
   "execution_count": null,
   "id": "5f4e5123-4171-447c-a85f-41b25dd61dfd",
   "metadata": {},
   "outputs": [],
   "source": [
    "model.eval()\n",
    "correct = 0\n",
    "with torch.no_grad():\n",
    "    for imgs, labels in val_loader:\n",
    "        imgs, labels = imgs.to(device), labels.to(device)\n",
    "        outputs = model(imgs)\n",
    "        correct += (outputs.argmax(1) == labels).sum().item()\n",
    "\n",
    "val_acc = correct / len(val_ds)\n",
    "print(f\"Validation Accuracy: {val_acc:.4f}\")"
   ]
  }
 ],
 "metadata": {
  "kernelspec": {
   "display_name": "Python (fastai)",
   "language": "python",
   "name": "fastai_env"
  },
  "language_info": {
   "codemirror_mode": {
    "name": "ipython",
    "version": 3
   },
   "file_extension": ".py",
   "mimetype": "text/x-python",
   "name": "python",
   "nbconvert_exporter": "python",
   "pygments_lexer": "ipython3",
   "version": "3.12.11"
  }
 },
 "nbformat": 4,
 "nbformat_minor": 5
}
