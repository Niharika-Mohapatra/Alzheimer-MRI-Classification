{
 "cells": [
  {
   "cell_type": "code",
   "execution_count": null,
   "id": "e847df58-068f-493f-84e0-b421c71276f2",
   "metadata": {},
   "outputs": [],
   "source": [
    "import pandas as pd\n",
    "from prettytable import PrettyTable\n",
    "import os\n",
    "import matplotlib.pyplot as plt"
   ]
  },
  {
   "cell_type": "code",
   "execution_count": null,
   "id": "e9badb49-1148-4c9a-abc1-3c1ad477173d",
   "metadata": {},
   "outputs": [],
   "source": [
    "exp_data = {\n",
    "    \"Name\": [\"FullData-Multiclass\", \"FullData-Binary\", \"AugTrain_OrgTest-Multiclass\", \"AugTrain_OrgTest-Binary\"],\n",
    "    \"Train Set\": [\"Original + Augmented\", \"Original + Augmented\", \"Augmented\", \"Augmented\"],\n",
    "    \"Test Set\": [\"Original + Augmented\", \"Original + Augmented\", \"Original\", \"Original\"],\n",
    "    \"Classes\": [\"All(4)\", \"NonDemented vs VeryMildDemented\", \"All(4)\", \"NonDemented vs VeryMildDemented\"],\n",
    "    \"Purpose\": [\"Baseline multiclass performance\", \"Binary classification for early detection\", \"Generalization on real data\", \"Early detection generalization\"]\n",
    "}\n",
    "\n",
    "exp_df = pd.DataFrame(exp_data)\n",
    "\n",
    "'''exp_table = PrettyTable()\n",
    "exp_table.field_names = exp_df.columns.tolist()\n",
    "\n",
    "for row in exp_df.itertuples(index=False):\n",
    "    exp_table.add_row(row)'''\n",
    "\n",
    "exp_df"
   ]
  },
  {
   "cell_type": "code",
   "execution_count": null,
   "id": "56053f73-3a8d-4728-86ec-1a7759886165",
   "metadata": {},
   "outputs": [],
   "source": [
    "def count_images_per_class(folder):\n",
    "    return {cls: len(os.listdir(os.path.join(folder, cls))) for cls in os.listdir(folder)}\n",
    "\n",
    "aug_path = \"/kaggle/input/augmented-alzheimer-mri-dataset/AugmentedAlzheimerDataset\"\n",
    "org_path = \"/kaggle/input/augmented-alzheimer-mri-dataset/OriginalDataset\"\n",
    "\n",
    "aug_counts = count_images_per_class(aug_path)\n",
    "org_counts = count_images_per_class(org_path)"
   ]
  },
  {
   "cell_type": "code",
   "execution_count": null,
   "id": "92f13e0a-61fe-4e47-aad4-782c538ab463",
   "metadata": {},
   "outputs": [],
   "source": [
    "all_classes = sorted(set(aug_counts.keys()).union(org_counts.keys()))\n",
    "\n",
    "mri_data = {\n",
    "    \"Classes\": all_classes,\n",
    "    \"Augmented\": [aug_counts.get(cls, 0) for cls in all_classes],\n",
    "    \"Original\": [org_counts.get(cls, 0) for cls in all_classes]\n",
    "}\n",
    "\n",
    "mri_df = pd.DataFrame(mri_data)\n",
    "\n",
    "mri_table = PrettyTable()\n",
    "mri_table.field_names = mri_df.columns.tolist()\n",
    "\n",
    "for row in mri_df.itertuples(index=False):\n",
    "    mri_table.add_row(row)\n",
    "\n",
    "print(mri_table)"
   ]
  },
  {
   "cell_type": "code",
   "execution_count": null,
   "id": "52ea4434-1d13-49a6-ac36-ee70f71a3b44",
   "metadata": {},
   "outputs": [],
   "source": [
    "fig, axs = plt.subplots(1, 2, figsize=(12, 4))\n",
    "axs[0].bar(aug_counts.keys(), aug_counts.values(), color='skyblue')\n",
    "axs[0].set_title(\"Augmented Dataset\")\n",
    "axs[0].set_ylabel(\"Number of Images\")\n",
    "axs[0].tick_params(axis='x', rotation=45)\n",
    "\n",
    "axs[1].bar(org_counts.keys(), org_counts.values(), color='salmon')\n",
    "axs[1].set_title(\"Original Dataset\")\n",
    "axs[1].tick_params(axis='x', rotation=45)\n",
    "\n",
    "plt.tight_layout()\n",
    "plt.show()"
   ]
  }
 ],
 "metadata": {
  "kernelspec": {
   "display_name": "Python (fastai)",
   "language": "python",
   "name": "fastai_env"
  },
  "language_info": {
   "codemirror_mode": {
    "name": "ipython",
    "version": 3
   },
   "file_extension": ".py",
   "mimetype": "text/x-python",
   "name": "python",
   "nbconvert_exporter": "python",
   "pygments_lexer": "ipython3",
   "version": "3.12.11"
  }
 },
 "nbformat": 4,
 "nbformat_minor": 5
}
