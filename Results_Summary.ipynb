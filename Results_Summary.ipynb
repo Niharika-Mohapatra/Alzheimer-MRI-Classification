{
 "cells": [
  {
   "cell_type": "code",
   "execution_count": null,
   "id": "718d38a0-ab6a-4e9c-9853-d2277f04fe56",
   "metadata": {},
   "outputs": [],
   "source": [
    "import pandas as pd\n",
    "r_data = {\n",
    "    \"Experiment\": [\"FullDataset - Multiclass\", \"FullDataset - Binary\", \"AugTrain_OrgTest-Multiclass\", \"AugTrain_OrgTest-Binary\"],\n",
    "    \"Train Accuracy (in %)\": [99.92, 96.94, 96.99, 96.69],\n",
    "    \"Validation Accuracy (in %)\": [99.99, 98.62, 96.45, 99.26],\n",
    "    \"Notes\": [\"Excellent performance, but possibly overfit\", \"Strong early-stage detection performance\", \"Good generalization across all 4 classes\", \"Best generalization for early detection\"]    \n",
    "}\n",
    "\n",
    "r_df = pd.DataFrame(r_data)\n",
    "r_df"
   ]
  }
 ],
 "metadata": {
  "kernelspec": {
   "display_name": "Python (fastai)",
   "language": "python",
   "name": "fastai_env"
  },
  "language_info": {
   "codemirror_mode": {
    "name": "ipython",
    "version": 3
   },
   "file_extension": ".py",
   "mimetype": "text/x-python",
   "name": "python",
   "nbconvert_exporter": "python",
   "pygments_lexer": "ipython3",
   "version": "3.12.11"
  }
 },
 "nbformat": 4,
 "nbformat_minor": 5
}
